{
  "nbformat": 4,
  "nbformat_minor": 0,
  "metadata": {
    "colab": {
      "provenance": [],
      "authorship_tag": "ABX9TyOT475u10GJnGunmrR6BtE6",
      "include_colab_link": true
    },
    "kernelspec": {
      "name": "python3",
      "display_name": "Python 3"
    },
    "language_info": {
      "name": "python"
    }
  },
  "cells": [
    {
      "cell_type": "markdown",
      "metadata": {
        "id": "view-in-github",
        "colab_type": "text"
      },
      "source": [
        "<a href=\"https://colab.research.google.com/github/xKHANAZRAELx/COLAB-BOOK-BACK-UP/blob/main/MY_PYTHON_NOTEBOOK.ipynb\" target=\"_parent\"><img src=\"https://colab.research.google.com/assets/colab-badge.svg\" alt=\"Open In Colab\"/></a>"
      ]
    },
    {
      "cell_type": "code",
      "execution_count": null,
      "metadata": {
        "id": "vdb7EKqxkZiX",
        "outputId": "1f734333-61bb-4c03-b55b-79a40aa98ff1",
        "colab": {
          "base_uri": "https://localhost:8080/"
        }
      },
      "outputs": [
        {
          "output_type": "stream",
          "name": "stdout",
          "text": [
            "Enter the weight of the baggage in kg: 1\n",
            "Baggage is within the weight limit.\n",
            "Sum of multiple of 3 = 166833\n",
            "Sum of multiple of 5 = 99500\n",
            "Sum of multiple of 3 or 5 = 233168\n"
          ]
        }
      ],
      "source": [
        "#Excercise 2\n",
        "y = int(input(\"Enter the weight of the baggage in kg: \"))\n",
        "\n",
        "while y > 15:\n",
        "    excess_weight = y - 15\n",
        "    print(\"Baggage exceeds the weight limit by\", excess_weight)\n",
        "    remove_weight = int(input(\"Please remove some weight in kg: \"))\n",
        "    y -= remove_weight\n",
        "\n",
        "print(\"Baggage is within the weight limit.\")\n",
        "\n",
        "#Excercise 3\n",
        "sum_multiples = 0\n",
        "sum_multiples3 = 0\n",
        "sum_multiples5 = 0\n",
        "\n",
        "i = 1\n",
        "while i < 1000:\n",
        "\n",
        "    if i % 3 == 0:\n",
        "        sum_multiples3 += i\n",
        "    i += 1\n",
        "\n",
        "j = 1\n",
        "while j < 1000:\n",
        "\n",
        "    if j % 5 == 0:\n",
        "        sum_multiples5 += j\n",
        "    j += 1\n",
        "\n",
        "k = 1\n",
        "while k < 1000:\n",
        "\n",
        "    if k % 3 == 0 or k % 5 == 0:\n",
        "        sum_multiples += k\n",
        "    k += 1\n",
        "\n",
        "print('Sum of multiple of 3 =', sum_multiples3)\n",
        "print('Sum of multiple of 5 =', sum_multiples5)\n",
        "print('Sum of multiple of 3 or 5 =', sum_multiples)\n",
        "\n",
        "\n"
      ]
    },
    {
      "cell_type": "code",
      "source": [
        "#Excercise 4\n",
        "def Sum_multiples(a, b, n):\n",
        "    multiples = set()\n",
        "\n",
        "    for i in range(a, n, a):\n",
        "        multiples.add(i)\n",
        "    for i in range(b, n, b):\n",
        "        multiples.add(i)\n",
        "\n",
        "    return sum(multiples)\n",
        "\n",
        "result = Sum_multiples(3, 5, 10)\n",
        "print(result)\n",
        "\n",
        "#Excercise 5\n",
        "def N_numbers(n):\n",
        "\n",
        "    return list(range(1, n + 1))\n",
        "result = N_numbers(6)\n",
        "print(result)\n"
      ],
      "metadata": {
        "colab": {
          "base_uri": "https://localhost:8080/"
        },
        "id": "5tLH5p9HqM-n",
        "outputId": "62ff8bfc-9b0d-4238-dc85-83b0cc5b0d61"
      },
      "execution_count": null,
      "outputs": [
        {
          "output_type": "stream",
          "name": "stdout",
          "text": [
            "23\n",
            "[1, 2, 3, 4, 5, 6]\n"
          ]
        }
      ]
    },
    {
      "cell_type": "code",
      "source": [
        "# Get the user's name as input\n",
        "name = input(\"Enter your name: \")\n",
        "\n",
        "# Display a greeting\n",
        "print(f\"Hello, {name}! Welcome to our Python program.\")"
      ],
      "metadata": {
        "colab": {
          "base_uri": "https://localhost:8080/"
        },
        "id": "yHfSFJb-Os7K",
        "outputId": "b86af7de-de78-47b8-86d0-004e22eeb17a"
      },
      "execution_count": 21,
      "outputs": [
        {
          "output_type": "stream",
          "name": "stdout",
          "text": [
            "Enter your name: AA\n",
            "Hello, AA! Welcome to our Python program.\n"
          ]
        }
      ]
    }
  ]
}