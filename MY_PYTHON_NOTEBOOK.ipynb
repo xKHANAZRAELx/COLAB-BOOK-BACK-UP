{
  "nbformat": 4,
  "nbformat_minor": 0,
  "metadata": {
    "colab": {
      "provenance": [],
      "authorship_tag": "ABX9TyNTSpp5XXx+btj7QkTE1T4W",
      "include_colab_link": true
    },
    "kernelspec": {
      "name": "python3",
      "display_name": "Python 3"
    },
    "language_info": {
      "name": "python"
    }
  },
  "cells": [
    {
      "cell_type": "markdown",
      "metadata": {
        "id": "view-in-github",
        "colab_type": "text"
      },
      "source": [
        "<a href=\"https://colab.research.google.com/github/xKHANAZRAELx/COLAB-BOOK-BACK-UP/blob/main/MY_PYTHON_NOTEBOOK.ipynb\" target=\"_parent\"><img src=\"https://colab.research.google.com/assets/colab-badge.svg\" alt=\"Open In Colab\"/></a>"
      ]
    },
    {
      "cell_type": "code",
      "execution_count": null,
      "metadata": {
        "id": "vdb7EKqxkZiX",
        "outputId": "1f734333-61bb-4c03-b55b-79a40aa98ff1",
        "colab": {
          "base_uri": "https://localhost:8080/"
        }
      },
      "outputs": [
        {
          "output_type": "stream",
          "name": "stdout",
          "text": [
            "Enter the weight of the baggage in kg: 1\n",
            "Baggage is within the weight limit.\n",
            "Sum of multiple of 3 = 166833\n",
            "Sum of multiple of 5 = 99500\n",
            "Sum of multiple of 3 or 5 = 233168\n"
          ]
        }
      ],
      "source": [
        "#Excercise 2\n",
        "y = int(input(\"Enter the weight of the baggage in kg: \"))\n",
        "\n",
        "while y > 15:\n",
        "    excess_weight = y - 15\n",
        "    print(\"Baggage exceeds the weight limit by\", excess_weight)\n",
        "    remove_weight = int(input(\"Please remove some weight in kg: \"))\n",
        "    y -= remove_weight\n",
        "\n",
        "print(\"Baggage is within the weight limit.\")\n",
        "\n",
        "#Excercise 3\n",
        "sum_multiples = 0\n",
        "sum_multiples3 = 0\n",
        "sum_multiples5 = 0\n",
        "\n",
        "i = 1\n",
        "while i < 1000:\n",
        "\n",
        "    if i % 3 == 0:\n",
        "        sum_multiples3 += i\n",
        "    i += 1\n",
        "\n",
        "j = 1\n",
        "while j < 1000:\n",
        "\n",
        "    if j % 5 == 0:\n",
        "        sum_multiples5 += j\n",
        "    j += 1\n",
        "\n",
        "k = 1\n",
        "while k < 1000:\n",
        "\n",
        "    if k % 3 == 0 or k % 5 == 0:\n",
        "        sum_multiples += k\n",
        "    k += 1\n",
        "\n",
        "print('Sum of multiple of 3 =', sum_multiples3)\n",
        "print('Sum of multiple of 5 =', sum_multiples5)\n",
        "print('Sum of multiple of 3 or 5 =', sum_multiples)\n",
        "\n",
        "\n"
      ]
    },
    {
      "cell_type": "code",
      "source": [
        "#Excercise 4\n",
        "def Sum_multiples(a, b, n):\n",
        "    multiples = set()\n",
        "\n",
        "    for i in range(a, n, a):\n",
        "        multiples.add(i)\n",
        "    for i in range(b, n, b):\n",
        "        multiples.add(i)\n",
        "\n",
        "    return sum(multiples)\n",
        "\n",
        "result = Sum_multiples(3, 5, 10)\n",
        "print(result)\n",
        "\n",
        "#Excercise 5\n",
        "def N_numbers(n):\n",
        "\n",
        "    return list(range(1, n + 1))\n",
        "result = N_numbers(8)\n",
        "print(result)\n"
      ],
      "metadata": {
        "colab": {
          "base_uri": "https://localhost:8080/"
        },
        "id": "5tLH5p9HqM-n",
        "outputId": "bf85767b-0bca-4926-957e-cb2ae075a4d5"
      },
      "execution_count": null,
      "outputs": [
        {
          "output_type": "stream",
          "name": "stdout",
          "text": [
            "23\n",
            "[1, 2, 3, 4, 5, 6, 7, 8]\n"
          ]
        }
      ]
    },
    {
      "cell_type": "code",
      "source": [
        "#6\n",
        "\n",
        "#Define a function to return the sum of all the multiples\n",
        "#of a or b in list l. (a,b,l) are function parameters.\n",
        "\n",
        "myList = list(range(1000))\n",
        "def f6(a, b, l):\n",
        "    multiples_sum = 0\n",
        "    for num in l:\n",
        "        if num % a == 0 or num % b == 0:\n",
        "            multiples_sum += num\n",
        "    return multiples_sum\n",
        "\n",
        "myList.remove(168)\n",
        "result = f6(5, 3, myList)\n",
        "print(\"Sum of multiples of 5 or 3 in the list is :\", result)\n",
        "\n",
        "#7\n",
        "\n",
        "#Define a function to return the sum of all the multiples in list l\n",
        "#of factors in list a. (a,l) are function parameters, with a of length 2.\n",
        "\n",
        "#def f7(a,l):\n",
        "  #pass\n",
        "#f7([5,3],myList)\n",
        "\n",
        "def f7(a, l):\n",
        "    multiples_sum = 0\n",
        "    for num in l:\n",
        "        if any(num % factor == 0 for factor in a):\n",
        "            multiples_sum += num\n",
        "    return multiples_sum\n",
        "\n",
        "\n",
        "myList = [10, 20, 30, 40, 50, 60, 70, 80, 90, 100]\n",
        "result = f7([5, 3], myList)\n",
        "\n",
        "print(result)\n"
      ],
      "metadata": {
        "colab": {
          "base_uri": "https://localhost:8080/"
        },
        "id": "YhW5rOT9g4C9",
        "outputId": "76abd377-1a34-470b-e034-6581d2052e0e"
      },
      "execution_count": null,
      "outputs": [
        {
          "output_type": "stream",
          "name": "stdout",
          "text": [
            "Sum of multiples of 5 or 3 in the list is : 233000\n",
            "550\n"
          ]
        }
      ]
    },
    {
      "cell_type": "code",
      "source": [
        "#8\n",
        "\n",
        "#Define a function to return the sum of all the multiples in list l\n",
        "#of factors in list a. (a,l) are function parameters.\n",
        "\n",
        "myList = list(range(1000))\n",
        "\n",
        "def f8(a,l):\n",
        "  multiples_sum = 0\n",
        "  for num in l:\n",
        "    for factor in a:\n",
        "      if num % factor == 0:\n",
        "                multiples_sum += num\n",
        "myList = [1, 2, 3, 4, 5, 6, 7, 8, 9, 10]\n",
        "\n",
        "result1=f8([5,3],myList)\n",
        "b=f8([2,5,3],myList)\n",
        "c=f8([2,5,3,11],myList)\n",
        "\n",
        "print(result1)\n",
        "print(b)\n",
        "print(c)"
      ],
      "metadata": {
        "id": "xb_nCi9ZvH6W",
        "colab": {
          "base_uri": "https://localhost:8080/"
        },
        "outputId": "57af3bef-cc45-4d0f-b5a9-b21ae9bccd5f"
      },
      "execution_count": null,
      "outputs": [
        {
          "output_type": "stream",
          "name": "stdout",
          "text": [
            "None\n",
            "None\n",
            "None\n"
          ]
        }
      ]
    },
    {
      "cell_type": "code",
      "source": [
        "#9\n",
        "\n",
        "#Define a function to return the sum of all the multiples in file with filename l,\n",
        "#one per line\n",
        "#of factors in file with filename a, also one per line.\n",
        "# (a,l) are function parameters.\n",
        "\n",
        "def f9(a,l):\n",
        "  sum=0\n",
        "  with open(l) as multiples:\n",
        "    for m_str in multiples:\n",
        "      Flag = False\n",
        "      mult = int(m_str)\n",
        "      with open(a) as factors:\n",
        "        for f_str in factors:\n",
        "          fact = int(f_str)\n",
        "          if mult%fact==0 and Flag==False:\n",
        "            sum+=mult\n",
        "            Flag=True\n",
        "  return sum\n",
        "\n",
        "myList=list(range(1000))\n",
        "\n",
        "with open('multiples','w') as m:\n",
        "  for i in myList:\n",
        "    m.write(str(i)+'\\n')\n",
        "\n",
        "with open('factors','w') as f:\n",
        "  for i in [3,5]:\n",
        "    f.write(str(i)+'\\n')\n",
        "\n",
        "f9('factors','multiples')\n"
      ],
      "metadata": {
        "colab": {
          "base_uri": "https://localhost:8080/"
        },
        "id": "HK395B2oqxMS",
        "outputId": "f49b30ee-19dc-42db-ac0a-9215ecc281c8"
      },
      "execution_count": null,
      "outputs": [
        {
          "output_type": "execute_result",
          "data": {
            "text/plain": [
              "233168"
            ]
          },
          "metadata": {},
          "execution_count": 14
        }
      ]
    },
    {
      "cell_type": "code",
      "source": [
        "#Ex 10\n",
        "#Create a function which:\n",
        "#  has inFile and outFile as parameters (filenames as strings, not filehandles or lists)\n",
        "#  each line of the input file contains factors, space separated\n",
        "#  followed by ':'\n",
        "#  followed by multiples, space separated\n",
        "#  the output file should prepend each line of the input file with the result of\n",
        "#  summing the multiples of the factors.\n",
        "#Example\n",
        "\n",
        "myList=list(range(1000))\n",
        "myList.remove(168)\n",
        "\n",
        "with open('input','w') as f:\n",
        "  f.write('3 5:1 2 3 4 5 6 7 8 9\\n3 5:')\n",
        "  for i in myList:\n",
        "    f.write(str(i)+' ')\n",
        "  f.write('\\n2 3 5:1 2 3 4 5 6 7 8 9')\n",
        "\n",
        "def create_file(num):\n",
        "  with open('in_file','w') as f:\n",
        "    f.write('3 5:1 2 3 4 5 6 7 8 9\\n3 5:')\n",
        "    for i in num:\n",
        "      f.write(str(i)+' ')\n",
        "    f.write('\\n2 3 5:1 2 3 4 5 6 7 8 9')\n",
        "  with open('out_file','w') as f:\n",
        "    pass\n",
        "  return('in_file','out_file')\n",
        "\n",
        "\n",
        "def f10(inFile,outFile):\n",
        "\n",
        "  in_handle = open(infile)\n",
        "  out_handle = open(outfile,'w')\n",
        "  for input_line in in_handle:\n",
        "    sum=0\n",
        "    input_part = input_line.strip().split(':')\n",
        "    for multiple in input_part[1].split():\n",
        "      Flag = False\n",
        "      for factor in input_part[0].split():\n",
        "        if int(multiple)%int(factor)==0 and Flag==False:\n",
        "          sum+=int(multiple)\n",
        "          Flag = True\n",
        "    out_handle.write(str(sum)+':'+input_line)\n",
        "\n",
        "myList=range(1000)\n",
        "infile,outfile=create_file(myList)\n",
        "f10(infile,outfile)\n",
        "\n",
        "\n",
        "with open('sampleoutput','w') as f: # for comparison to actual\n",
        "  f.write('23:3 5:1 2 3 4 5 6 7 8 9\\n233000:3 5:')\n",
        "  for i in myList:\n",
        "    f.write(str(i)+' ')\n",
        "  f.write('\\n37:2 3 5:1 2 3 4 5 6 7 8 9')\n",
        "\n",
        "\n"
      ],
      "metadata": {
        "id": "vYUahM0kmOen"
      },
      "execution_count": 2,
      "outputs": []
    },
    {
      "cell_type": "code",
      "source": [
        "#Ex 11\n",
        "#Do Ex 10 handling FileNotFound errors or other IO\n",
        "\n",
        "def create_file(num):\n",
        "  with open('in_file','w') as f:\n",
        "    f.write('3 5:1 B 3 4 5 6 7 8 9\\n3 5:')\n",
        "    for i in num:\n",
        "      f.write(str(i)+' ')\n",
        "    f.write('\\n2 3 5:1 2 3 4 5 6 7 8 9')\n",
        "  with open('out_file','w') as f:\n",
        "    pass\n",
        "  return('in_file','out_file')\n",
        "\n",
        "def f11(infile,outfile):\n",
        "  try:\n",
        "    in_handle = open(infile)\n",
        "    out_handle = open(outfile,'w')\n",
        "    for input_line in in_handle:\n",
        "      sum=0\n",
        "      input_part = input_line.strip().split(':')\n",
        "      for multiple in input_part[1].split():\n",
        "        Flag = False\n",
        "        for factor in input_part[0].split():\n",
        "          if int(multiple)%int(factor)==0 and Flag==False:\n",
        "            sum+=int(multiple)\n",
        "            Flag = True\n",
        "    out_handle.write(str(sum)+':'+input_line)\n",
        "  except:\n",
        "    print(\"exception\")\n",
        "    myList=range(1000)\n",
        "infile,outfile=create_file(myList)\n",
        "f11(infile,outfile)"
      ],
      "metadata": {
        "colab": {
          "base_uri": "https://localhost:8080/"
        },
        "id": "wqkyJMcwVubt",
        "outputId": "f0944092-cefd-4323-f380-5c54dffab288"
      },
      "execution_count": null,
      "outputs": [
        {
          "output_type": "stream",
          "name": "stdout",
          "text": [
            "exception\n"
          ]
        }
      ]
    },
    {
      "cell_type": "code",
      "source": [
        "#Ex 12\n",
        "#Do Ex 11 handling Corrupt lines by prepending \"corrupt\" as the result\n",
        "#Other lines should be handled correctly\n",
        "#3::::5 => corrupt:3::::5\n",
        "# 3 5:1 2 3 4 5 6 7 8 9 Hello World => corrupt:3 5:1 2 3 4 5 6 7 8 9 Hello World\n",
        "\n",
        "\n",
        "def f11(infile, outfile):\n",
        "    try:\n",
        "        in_handle = open(infile)\n",
        "        out_handle = open(outfile, 'w')\n",
        "        for input_line in in_handle:\n",
        "            sum = 0\n",
        "            input_part = input_line.strip().split(':')\n",
        "            is_corrupt = False\n",
        "            corrected_line = []\n",
        "\n",
        "            for part in input_part:\n",
        "                if all(char.isdigit() or char == ':' for char in part):\n",
        "                    for multiple in part.split():\n",
        "                        Flag = False\n",
        "                        for factor in input_part[0].split():\n",
        "                            if multiple.isdigit() and factor.isdigit() and int(multiple) % int(factor) == 0 and not Flag:\n",
        "                                sum += int(multiple)\n",
        "                                Flag = True\n",
        "                    corrected_line.append(f'{sum}:{part}')\n",
        "                else:\n",
        "                    is_corrupt = True\n",
        "                    corrected_line.append(f'corrupt:{part}')\n",
        "\n",
        "            out_handle.write(\" \".join(corrected_line) if not is_corrupt else \"corrupt:\" + input_line)\n",
        "    except Exception as e:\n",
        "        print(\"Exception:\", e)\n",
        "\n",
        "myList = range(1000)\n",
        "infile, outfile = create_file(myList)\n",
        "f11(infile, outfile)"
      ],
      "metadata": {
        "id": "-2D7v2nsi3MK"
      },
      "execution_count": 4,
      "outputs": []
    },
    {
      "cell_type": "code",
      "source": [
        "#Ex 13\n",
        "#Do Ex 12 handling lines with single corrupt values by ignoring these values\n",
        "#Other values should be handled correctly\n",
        "#3::::5 => corrupt:3::::5\n",
        "# 3 5:1 2 3 4 5 6 7 8 9 Hello World => 23:3 5:1 2 3 4 5 6 7 8 9 Hello World\n",
        "#Hello World => corrupt:Hello World\n",
        "#2 5 : 1 2 1O l2"
      ],
      "metadata": {
        "id": "-SFyFCr9YPge"
      },
      "execution_count": null,
      "outputs": []
    },
    {
      "cell_type": "code",
      "source": [
        "#Exercise on Dictionaries\n",
        "\n",
        "#Given a dictionary of prices for products, for example\n",
        "prices={'bread':1.49,'milk':1.29,'cheese':2.99}\n",
        "#and a dictionary of quantities, for example\n",
        "basket={'bread':2,'cheese':1}\n",
        "#Create a function to return the cost of the basket of items\n",
        "\n",
        "def calculate_basket_cost(prices, basket):\n",
        "    total_cost = 0\n",
        "\n",
        "    for item, quantity in basket.items():\n",
        "        if item in prices:\n",
        "            total_cost += prices[item] * quantity\n",
        "        else:\n",
        "            print(f\"{item} is not in the price list. Skipped.\")\n",
        "\n",
        "    return total_cost\n",
        "\n",
        "# Example usage:\n",
        "prices = {'bread': 1.49, 'milk': 1.29, 'cheese': 2.99}\n",
        "basket = {'bread': 2, 'cheese': 1}\n",
        "\n",
        "total_cost = calculate_basket_cost(prices, basket)\n",
        "print(f'Total cost of the basket: ${total_cost:.2f}')"
      ],
      "metadata": {
        "id": "IsHIO2jHYUAm",
        "colab": {
          "base_uri": "https://localhost:8080/"
        },
        "outputId": "bc47eef0-1b50-492a-fd1c-b5758c101ee9"
      },
      "execution_count": 1,
      "outputs": [
        {
          "output_type": "stream",
          "name": "stdout",
          "text": [
            "Total cost of the basket: $5.97\n"
          ]
        }
      ]
    }
  ]
}