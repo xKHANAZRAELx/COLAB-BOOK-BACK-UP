{
  "nbformat": 4,
  "nbformat_minor": 0,
  "metadata": {
    "colab": {
      "provenance": [],
      "authorship_tag": "ABX9TyOjVnvPfgSa9AcN7dQ0R14/",
      "include_colab_link": true
    },
    "kernelspec": {
      "name": "python3",
      "display_name": "Python 3"
    },
    "language_info": {
      "name": "python"
    }
  },
  "cells": [
    {
      "cell_type": "markdown",
      "metadata": {
        "id": "view-in-github",
        "colab_type": "text"
      },
      "source": [
        "<a href=\"https://colab.research.google.com/github/xKHANAZRAELx/COLAB-BOOK-BACK-UP/blob/main/MY_PYTHON_NOTEBOOK.ipynb\" target=\"_parent\"><img src=\"https://colab.research.google.com/assets/colab-badge.svg\" alt=\"Open In Colab\"/></a>"
      ]
    },
    {
      "cell_type": "code",
      "execution_count": null,
      "metadata": {
        "id": "vdb7EKqxkZiX",
        "outputId": "1f734333-61bb-4c03-b55b-79a40aa98ff1",
        "colab": {
          "base_uri": "https://localhost:8080/"
        }
      },
      "outputs": [
        {
          "output_type": "stream",
          "name": "stdout",
          "text": [
            "Enter the weight of the baggage in kg: 1\n",
            "Baggage is within the weight limit.\n",
            "Sum of multiple of 3 = 166833\n",
            "Sum of multiple of 5 = 99500\n",
            "Sum of multiple of 3 or 5 = 233168\n"
          ]
        }
      ],
      "source": [
        "#Excercise 2\n",
        "y = int(input(\"Enter the weight of the baggage in kg: \"))\n",
        "\n",
        "while y > 15:\n",
        "    excess_weight = y - 15\n",
        "    print(\"Baggage exceeds the weight limit by\", excess_weight)\n",
        "    remove_weight = int(input(\"Please remove some weight in kg: \"))\n",
        "    y -= remove_weight\n",
        "\n",
        "print(\"Baggage is within the weight limit.\")\n",
        "\n",
        "#Excercise 3\n",
        "sum_multiples = 0\n",
        "sum_multiples3 = 0\n",
        "sum_multiples5 = 0\n",
        "\n",
        "i = 1\n",
        "while i < 1000:\n",
        "\n",
        "    if i % 3 == 0:\n",
        "        sum_multiples3 += i\n",
        "    i += 1\n",
        "\n",
        "j = 1\n",
        "while j < 1000:\n",
        "\n",
        "    if j % 5 == 0:\n",
        "        sum_multiples5 += j\n",
        "    j += 1\n",
        "\n",
        "k = 1\n",
        "while k < 1000:\n",
        "\n",
        "    if k % 3 == 0 or k % 5 == 0:\n",
        "        sum_multiples += k\n",
        "    k += 1\n",
        "\n",
        "print('Sum of multiple of 3 =', sum_multiples3)\n",
        "print('Sum of multiple of 5 =', sum_multiples5)\n",
        "print('Sum of multiple of 3 or 5 =', sum_multiples)\n",
        "\n",
        "\n"
      ]
    },
    {
      "cell_type": "code",
      "source": [
        "#Excercise 4\n",
        "def Sum_multiples(a, b, n):\n",
        "    multiples = set()\n",
        "\n",
        "    for i in range(a, n, a):\n",
        "        multiples.add(i)\n",
        "    for i in range(b, n, b):\n",
        "        multiples.add(i)\n",
        "\n",
        "    return sum(multiples)\n",
        "\n",
        "result = Sum_multiples(3, 5, 10)\n",
        "print(result)\n",
        "\n",
        "#Excercise 5\n",
        "def N_numbers(n):\n",
        "\n",
        "    return list(range(1, n + 1))\n",
        "result = N_numbers(8)\n",
        "print(result)\n"
      ],
      "metadata": {
        "colab": {
          "base_uri": "https://localhost:8080/"
        },
        "id": "5tLH5p9HqM-n",
        "outputId": "bf85767b-0bca-4926-957e-cb2ae075a4d5"
      },
      "execution_count": null,
      "outputs": [
        {
          "output_type": "stream",
          "name": "stdout",
          "text": [
            "23\n",
            "[1, 2, 3, 4, 5, 6, 7, 8]\n"
          ]
        }
      ]
    },
    {
      "cell_type": "code",
      "source": [
        "#6\n",
        "\n",
        "#Define a function to return the sum of all the multiples\n",
        "#of a or b in list l. (a,b,l) are function parameters.\n",
        "\n",
        "myList = list(range(1000))\n",
        "def f6(a, b, l):\n",
        "    multiples_sum = 0\n",
        "    for num in l:\n",
        "        if num % a == 0 or num % b == 0:\n",
        "            multiples_sum += num\n",
        "    return multiples_sum\n",
        "\n",
        "myList.remove(168)\n",
        "result = f6(5, 3, myList)\n",
        "print(\"Sum of multiples of 5 or 3 in the list is :\", result)\n",
        "\n",
        "#7\n",
        "\n",
        "#Define a function to return the sum of all the multiples in list l\n",
        "#of factors in list a. (a,l) are function parameters, with a of length 2.\n",
        "\n",
        "#def f7(a,l):\n",
        "  #pass\n",
        "#f7([5,3],myList)\n",
        "\n",
        "def f7(a, l):\n",
        "    multiples_sum = 0\n",
        "    for num in l:\n",
        "        if any(num % factor == 0 for factor in a):\n",
        "            multiples_sum += num\n",
        "    return multiples_sum\n",
        "\n",
        "\n",
        "myList = [10, 20, 30, 40, 50, 60, 70, 80, 90, 100]\n",
        "result = f7([5, 3], myList)\n",
        "\n",
        "print(result)\n"
      ],
      "metadata": {
        "colab": {
          "base_uri": "https://localhost:8080/"
        },
        "id": "YhW5rOT9g4C9",
        "outputId": "76abd377-1a34-470b-e034-6581d2052e0e"
      },
      "execution_count": null,
      "outputs": [
        {
          "output_type": "stream",
          "name": "stdout",
          "text": [
            "Sum of multiples of 5 or 3 in the list is : 233000\n",
            "550\n"
          ]
        }
      ]
    },
    {
      "cell_type": "code",
      "source": [
        "#8\n",
        "\n",
        "#Define a function to return the sum of all the multiples in list l\n",
        "#of factors in list a. (a,l) are function parameters.\n",
        "\n",
        "myList = list(range(1000))\n",
        "\n",
        "def f8(a,l):\n",
        "  multiples_sum = 0\n",
        "  for num in l:\n",
        "    for factor in a:\n",
        "      if num % factor == 0:\n",
        "                multiples_sum += num\n",
        "myList = [1, 2, 3, 4, 5, 6, 7, 8, 9, 10]\n",
        "\n",
        "result1=f8([5,3],myList)\n",
        "b=f8([2,5,3],myList)\n",
        "c=f8([2,5,3,11],myList)\n",
        "\n",
        "print(result1)\n",
        "print(b)\n",
        "print(c)"
      ],
      "metadata": {
        "id": "xb_nCi9ZvH6W"
      },
      "execution_count": null,
      "outputs": []
    },
    {
      "cell_type": "code",
      "source": [
        "#9\n",
        "\n",
        "#Define a function to return the sum of all the multiples in file with filename l,\n",
        "#one per line\n",
        "#of factors in file with filename a, also one per line.\n",
        "# (a,l) are function parameters.\n",
        "\n",
        "def l(a):\n",
        "\n",
        "    with open(a, 'r') as file:\n",
        "        b = [int(line.strip()) for line in file.readlines()]\n",
        "    return sum(b)\n",
        "\n",
        "a = 'a.txt'\n",
        "result = l(a)\n",
        "print(\"Sum of multiples:\", result)\n"
      ],
      "metadata": {
        "colab": {
          "base_uri": "https://localhost:8080/"
        },
        "id": "HK395B2oqxMS",
        "outputId": "2e797c22-fd5e-46ea-a08a-40cc9945c443"
      },
      "execution_count": 111,
      "outputs": [
        {
          "output_type": "stream",
          "name": "stdout",
          "text": [
            "Sum of multiples: 156\n"
          ]
        }
      ]
    }
  ]
}